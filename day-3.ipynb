{
 "cells": [
  {
   "cell_type": "markdown",
   "metadata": {},
   "source": [
    "Day 3 Part 1"
   ]
  },
  {
   "cell_type": "code",
   "execution_count": 9,
   "metadata": {},
   "outputs": [
    {
     "name": "stdout",
     "output_type": "stream",
     "text": [
      "2565\n"
     ]
    }
   ],
   "source": [
    "file = open(\"testdata-day-3.txt\", \"r\").read()\n",
    "directions = [*file]\n",
    "house_visits = {}\n",
    "x = 0\n",
    "y = 0\n",
    "for i in directions:\n",
    "    if i == '^':\n",
    "        y += 1\n",
    "    if i == 'v':\n",
    "        y -= 1\n",
    "    if i == '>':\n",
    "        x += 1\n",
    "    if i == '<':\n",
    "        x -= 1\n",
    "    if house_visits.get(str(x)+','+str(y)) == 1:\n",
    "        house_visits[str(x)+','+str(y)] += 1\n",
    "    else: \n",
    "        house_visits[str(x)+','+str(y)] = 1\n",
    "print(len(house_visits))"
   ]
  }
 ],
 "metadata": {
  "kernelspec": {
   "display_name": "Python 3",
   "language": "python",
   "name": "python3"
  },
  "language_info": {
   "codemirror_mode": {
    "name": "ipython",
    "version": 3
   },
   "file_extension": ".py",
   "mimetype": "text/x-python",
   "name": "python",
   "nbconvert_exporter": "python",
   "pygments_lexer": "ipython3",
   "version": "3.10.13"
  }
 },
 "nbformat": 4,
 "nbformat_minor": 2
}
