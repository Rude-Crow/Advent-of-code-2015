{
 "cells": [
  {
   "cell_type": "code",
   "execution_count": 10,
   "metadata": {},
   "outputs": [
    {
     "name": "stdout",
     "output_type": "stream",
     "text": [
      "232\n"
     ]
    }
   ],
   "source": [
    "file = open(\"testdata-day-1.txt\", \"r\").read()\n",
    "instructions = [*file]\n",
    "floor = 0\n",
    "for i in instructions:\n",
    "    if i == '(':\n",
    "        floor += 1\n",
    "    if i == ')':\n",
    "        floor -= 1\n",
    "print(floor)"
   ]
  },
  {
   "cell_type": "code",
   "execution_count": 1,
   "metadata": {},
   "outputs": [
    {
     "name": "stdout",
     "output_type": "stream",
     "text": [
      "232\n"
     ]
    }
   ],
   "source": [
    "# day 1 refined\n",
    "file = open(\"testdata-day-1.txt\", \"r\").read()\n",
    "instructions = [*file]\n",
    "floor = len([l for l in instructions if l in \"(\"]) - len([r for r in instructions if r in \")\"])\n",
    "print(floor)"
   ]
  },
  {
   "cell_type": "code",
   "execution_count": 12,
   "metadata": {},
   "outputs": [
    {
     "name": "stdout",
     "output_type": "stream",
     "text": [
      "-1\n",
      "1783\n"
     ]
    }
   ],
   "source": [
    "# part 2\n",
    "file = open(\"testdata-day-1.txt\", \"r\").read()\n",
    "instructions = [*file]\n",
    "floor = 0\n",
    "position = 0\n",
    "for i in instructions:\n",
    "    position += 1\n",
    "    if i == '(':\n",
    "        floor += 1\n",
    "    if i == ')':\n",
    "        floor -= 1\n",
    "    if floor == -1:\n",
    "        break\n",
    "print(floor)\n",
    "print(position)"
   ]
  }
 ],
 "metadata": {
  "kernelspec": {
   "display_name": "Python 3",
   "language": "python",
   "name": "python3"
  },
  "language_info": {
   "codemirror_mode": {
    "name": "ipython",
    "version": 3
   },
   "file_extension": ".py",
   "mimetype": "text/x-python",
   "name": "python",
   "nbconvert_exporter": "python",
   "pygments_lexer": "ipython3",
   "version": "3.10.13"
  }
 },
 "nbformat": 4,
 "nbformat_minor": 2
}
