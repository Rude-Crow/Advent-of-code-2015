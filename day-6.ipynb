{
 "cells": [
  {
   "cell_type": "code",
   "execution_count": 64,
   "metadata": {},
   "outputs": [],
   "source": [
    "import re"
   ]
  },
  {
   "cell_type": "code",
   "execution_count": 65,
   "metadata": {},
   "outputs": [],
   "source": [
    "def lightGrid_Setup():\n",
    "    lightGrid = {}\n",
    "    x = 0\n",
    "    y = 0\n",
    "    while x <= 999:\n",
    "        y = 0\n",
    "        while y <= 999:\n",
    "            lightGrid[f\"{x},{y}\"] = 0\n",
    "            y = y + 1\n",
    "        x = x + 1\n",
    "    return lightGrid\n",
    "\n",
    "def readRange(i):\n",
    "    i_split = i.split(\"through\")\n",
    "    if re.search(r\"(turn)\\s(off)\", i) != None:\n",
    "        startRange = (i_split[0].split(\"turn off \")[1]).split(\",\")\n",
    "    elif re.search(r\"(turn)\\s(on)\", i) != None:\n",
    "        startRange = (i_split[0].split(\"turn on \")[1]).split(\",\")\n",
    "    elif re.search(r\"(toggle)\", i) != None:\n",
    "        startRange = (i_split[0].split(\"toggle \")[1]).split(\",\")\n",
    "    endRange = (i_split[1]).split(\",\")\n",
    "    startRange = [int(startRange[0]), int(startRange[1])]\n",
    "    endRange = [int(endRange[0]), int(endRange[1])]\n",
    "    return (startRange, endRange)\n",
    "\n",
    "def changeGrid(i, lightGrid, state):\n",
    "    startRange, endRange = readRange(i)\n",
    "    x = startRange[0]\n",
    "    y = startRange[1]\n",
    "    while x <= endRange[0]:\n",
    "        while y <= 999:\n",
    "            if state == 2: #for toggle change\n",
    "                if lightGrid[f\"{x},{y}\"] == 1:\n",
    "                    lightGrid[f\"{x},{y}\"] = 0\n",
    "                else:\n",
    "                    lightGrid[f\"{x},{y}\"] = 1\n",
    "            else:\n",
    "                lightGrid[f\"{x},{y}\"] = state\n",
    "                \n",
    "            if [x, y] == endRange:\n",
    "                break\n",
    "            y = y + 1\n",
    "            \n",
    "        if [x, y] == endRange:\n",
    "                break\n",
    "        x = x + 1\n",
    "        y = 0\n",
    "    return lightGrid\n",
    "\n",
    "def countLights(lightGrid):\n",
    "    lightCount = 0\n",
    "    for key in lightGrid:\n",
    "        if lightGrid[key] == 1:\n",
    "            lightCount = lightCount + 1\n",
    "    return(lightCount)\n"
   ]
  },
  {
   "cell_type": "code",
   "execution_count": 66,
   "metadata": {},
   "outputs": [
    {
     "name": "stdout",
     "output_type": "stream",
     "text": [
      "598126\n"
     ]
    }
   ],
   "source": [
    "file = open(\"testdata-day-6.txt\", \"r\").read()\n",
    "instructions = file.split(\"\\n\")\n",
    "\n",
    "lightGrid = lightGrid_Setup()\n",
    "\n",
    "for i in instructions:\n",
    "    if re.search(r\"(turn)\\s(off)\", i):\n",
    "        lightGrid = changeGrid(i, lightGrid, 0)\n",
    "    elif re.search(r\"(turn)\\s(on)\", i):\n",
    "        lightGrid = changeGrid(i, lightGrid, 1)\n",
    "    elif re.search(r\"(toggle)\", i):\n",
    "        lightGrid = changeGrid(i, lightGrid, 2)\n",
    "\n",
    "print(countLights(lightGrid))"
   ]
  },
  {
   "cell_type": "markdown",
   "metadata": {},
   "source": [
    "last: 598126, 597667"
   ]
  }
 ],
 "metadata": {
  "kernelspec": {
   "display_name": "Python 3",
   "language": "python",
   "name": "python3"
  },
  "language_info": {
   "codemirror_mode": {
    "name": "ipython",
    "version": 3
   },
   "file_extension": ".py",
   "mimetype": "text/x-python",
   "name": "python",
   "nbconvert_exporter": "python",
   "pygments_lexer": "ipython3",
   "version": "3.10.13"
  }
 },
 "nbformat": 4,
 "nbformat_minor": 2
}
