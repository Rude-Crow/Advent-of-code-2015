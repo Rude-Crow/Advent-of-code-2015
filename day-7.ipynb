{
 "cells": [
  {
   "cell_type": "code",
   "execution_count": 133,
   "metadata": {},
   "outputs": [],
   "source": [
    "import re\n",
    "file = open(\"testdata.txt\", \"r\").read()\n",
    "instructions = file.split(\"\\n\")"
   ]
  },
  {
   "cell_type": "code",
   "execution_count": 134,
   "metadata": {},
   "outputs": [],
   "source": [
    "def getWires(instructions):\n",
    "    wires = {}\n",
    "    for i in instructions:\n",
    "        wire = i.split(' -> ')[1]\n",
    "        input = i.split(' -> ')[0]\n",
    "        wires[f'{wire}'] = input\n",
    "        if re.search('AND|OR|LSHIFT|RSHIFT|NOT', i) == None:\n",
    "            if input.isnumeric():\n",
    "                wires[f'{wire}'] = int(input)\n",
    "    return wires"
   ]
  },
  {
   "cell_type": "code",
   "execution_count": 135,
   "metadata": {},
   "outputs": [],
   "source": [
    "def returnBitValue(input_1, input_2, wireDict, wire):\n",
    "    if input_1.isnumeric():\n",
    "        input_1 = int(input_1)\n",
    "    elif isinstance(wireDict[input_1], int):\n",
    "        input_1 = wireDict[input_1]\n",
    "\n",
    "    if input_2.isnumeric():\n",
    "        input_2 = int(input_2)\n",
    "    elif isinstance(wireDict[input_2], int):\n",
    "        input_2 = wireDict[input_2]\n",
    "\n",
    "    if isinstance(input_1, int) & isinstance(input_2, int):\n",
    "        if re.search('AND', wireDict[wire]):\n",
    "            value = input_1 & input_2\n",
    "        elif re.search('OR', wireDict[wire]):\n",
    "            value = input_1 | input_2\n",
    "        elif re.search('LSHIFT', wireDict[wire]):\n",
    "            value = input_1 << input_2\n",
    "        elif re.search('RSHIFT', wireDict[wire]):\n",
    "            value = input_1 >> input_2\n",
    "        \n",
    "        return value\n",
    "    \n",
    "    return False"
   ]
  },
  {
   "cell_type": "code",
   "execution_count": 136,
   "metadata": {},
   "outputs": [],
   "source": [
    "def preformBitOperation(wireDict):\n",
    "    while not all(isinstance(x, int) for x in list(wireDict.values())):\n",
    "        for wire in wireDict:\n",
    "            if not isinstance(wireDict[wire], int):\n",
    "                print(wire, wireDict[wire])\n",
    "                \n",
    "                if re.search('AND|OR|LSHIFT|RSHIFT|NOT', wireDict[wire]) == None:\n",
    "                    singleInput = wireDict[wireDict[wire]]\n",
    "                    if  re.search('AND|OR|LSHIFT|RSHIFT|NOT', singleInput):\n",
    "                        input_1 = re.split('AND|OR|LSHIFT|RSHIFT', singleInput)[0].split(' ')[0] #get input without empty space\n",
    "                        input_2 = re.split('AND|OR|LSHIFT|RSHIFT', singleInput)[1].split(' ')[1] #get input without empty space\n",
    "                        value = returnBitValue(input_1, input_2, wireDict, singleInput)\n",
    "                        if value:\n",
    "                            wireDict[wire] = value\n",
    "                    elif singleInput.isnumeric():\n",
    "                        singleInput = int(singleInput)\n",
    "                    elif isinstance(singleInput, int):\n",
    "                        wireDict[wire] = singleInput\n",
    "                    elif isinstance(wireDict[singleInput], int):\n",
    "                        singleInput = wireDict[singleInput]\n",
    "                    wireDict[wire] = singleInput\n",
    "\n",
    "                elif re.search('NOT', wireDict[wire]):\n",
    "                    inputForNot = re.split('NOT ', wireDict[wire])[1]#get input for not bitwise op\n",
    "                    if isinstance(inputForNot, int):\n",
    "                        wireDict[wire] = ~inputForNot\n",
    "                    if inputForNot.isnumeric():\n",
    "                        inputForNot = int(inputForNot)\n",
    "                    elif isinstance(wireDict[inputForNot], int):\n",
    "                        inputForNot = wireDict[inputForNot]\n",
    "                    if isinstance(inputForNot, int):\n",
    "                        wireDict[wire] = ~inputForNot\n",
    "                    \n",
    "                else:\n",
    "                    input_1 = re.split('AND|OR|LSHIFT|RSHIFT', wireDict[wire])[0].split(' ')[0] #get input without empty space\n",
    "                    input_2 = re.split('AND|OR|LSHIFT|RSHIFT', wireDict[wire])[1].split(' ')[1] #get input without empty space\n",
    "\n",
    "                    value = returnBitValue(input_1, input_2, wireDict, wire)\n",
    "                    if value:    \n",
    "                        wireDict[wire] = value\n",
    "    return wireDict\n"
   ]
  },
  {
   "cell_type": "code",
   "execution_count": 137,
   "metadata": {},
   "outputs": [
    {
     "name": "stdout",
     "output_type": "stream",
     "text": [
      "a b AND c\n",
      "b d RSHIFT 15\n",
      "d f OR g\n",
      "e NOT f\n",
      "g f\n"
     ]
    },
    {
     "ename": "TypeError",
     "evalue": "expected string or bytes-like object",
     "output_type": "error",
     "traceback": [
      "\u001b[0;31m---------------------------------------------------------------------------\u001b[0m",
      "\u001b[0;31mTypeError\u001b[0m                                 Traceback (most recent call last)",
      "Cell \u001b[0;32mIn[137], line 2\u001b[0m\n\u001b[1;32m      1\u001b[0m wires \u001b[38;5;241m=\u001b[39m getWires(instructions)\n\u001b[0;32m----> 2\u001b[0m solved \u001b[38;5;241m=\u001b[39m \u001b[43mpreformBitOperation\u001b[49m\u001b[43m(\u001b[49m\u001b[43mwires\u001b[49m\u001b[43m)\u001b[49m\n\u001b[1;32m      3\u001b[0m \u001b[38;5;28mprint\u001b[39m(solved[\u001b[38;5;124m'\u001b[39m\u001b[38;5;124ma\u001b[39m\u001b[38;5;124m'\u001b[39m])\n",
      "Cell \u001b[0;32mIn[136], line 8\u001b[0m, in \u001b[0;36mpreformBitOperation\u001b[0;34m(wireDict)\u001b[0m\n\u001b[1;32m      6\u001b[0m \u001b[38;5;28;01mif\u001b[39;00m re\u001b[38;5;241m.\u001b[39msearch(\u001b[38;5;124m'\u001b[39m\u001b[38;5;124mAND|OR|LSHIFT|RSHIFT|NOT\u001b[39m\u001b[38;5;124m'\u001b[39m, wireDict[wire]) \u001b[38;5;241m==\u001b[39m \u001b[38;5;28;01mNone\u001b[39;00m:\n\u001b[1;32m      7\u001b[0m     singleInput \u001b[38;5;241m=\u001b[39m wireDict[wireDict[wire]]\n\u001b[0;32m----> 8\u001b[0m     \u001b[38;5;28;01mif\u001b[39;00m  \u001b[43mre\u001b[49m\u001b[38;5;241;43m.\u001b[39;49m\u001b[43msearch\u001b[49m\u001b[43m(\u001b[49m\u001b[38;5;124;43m'\u001b[39;49m\u001b[38;5;124;43mAND|OR|LSHIFT|RSHIFT|NOT\u001b[39;49m\u001b[38;5;124;43m'\u001b[39;49m\u001b[43m,\u001b[49m\u001b[43m \u001b[49m\u001b[43msingleInput\u001b[49m\u001b[43m)\u001b[49m:\n\u001b[1;32m      9\u001b[0m         input_1 \u001b[38;5;241m=\u001b[39m re\u001b[38;5;241m.\u001b[39msplit(\u001b[38;5;124m'\u001b[39m\u001b[38;5;124mAND|OR|LSHIFT|RSHIFT\u001b[39m\u001b[38;5;124m'\u001b[39m, singleInput)[\u001b[38;5;241m0\u001b[39m]\u001b[38;5;241m.\u001b[39msplit(\u001b[38;5;124m'\u001b[39m\u001b[38;5;124m \u001b[39m\u001b[38;5;124m'\u001b[39m)[\u001b[38;5;241m0\u001b[39m] \u001b[38;5;66;03m#get input without empty space\u001b[39;00m\n\u001b[1;32m     10\u001b[0m         input_2 \u001b[38;5;241m=\u001b[39m re\u001b[38;5;241m.\u001b[39msplit(\u001b[38;5;124m'\u001b[39m\u001b[38;5;124mAND|OR|LSHIFT|RSHIFT\u001b[39m\u001b[38;5;124m'\u001b[39m, singleInput)[\u001b[38;5;241m1\u001b[39m]\u001b[38;5;241m.\u001b[39msplit(\u001b[38;5;124m'\u001b[39m\u001b[38;5;124m \u001b[39m\u001b[38;5;124m'\u001b[39m)[\u001b[38;5;241m1\u001b[39m] \u001b[38;5;66;03m#get input without empty space\u001b[39;00m\n",
      "File \u001b[0;32m~/.python/current/lib/python3.10/re.py:200\u001b[0m, in \u001b[0;36msearch\u001b[0;34m(pattern, string, flags)\u001b[0m\n\u001b[1;32m    197\u001b[0m \u001b[38;5;28;01mdef\u001b[39;00m \u001b[38;5;21msearch\u001b[39m(pattern, string, flags\u001b[38;5;241m=\u001b[39m\u001b[38;5;241m0\u001b[39m):\n\u001b[1;32m    198\u001b[0m \u001b[38;5;250m    \u001b[39m\u001b[38;5;124;03m\"\"\"Scan through string looking for a match to the pattern, returning\u001b[39;00m\n\u001b[1;32m    199\u001b[0m \u001b[38;5;124;03m    a Match object, or None if no match was found.\"\"\"\u001b[39;00m\n\u001b[0;32m--> 200\u001b[0m     \u001b[38;5;28;01mreturn\u001b[39;00m \u001b[43m_compile\u001b[49m\u001b[43m(\u001b[49m\u001b[43mpattern\u001b[49m\u001b[43m,\u001b[49m\u001b[43m \u001b[49m\u001b[43mflags\u001b[49m\u001b[43m)\u001b[49m\u001b[38;5;241;43m.\u001b[39;49m\u001b[43msearch\u001b[49m\u001b[43m(\u001b[49m\u001b[43mstring\u001b[49m\u001b[43m)\u001b[49m\n",
      "\u001b[0;31mTypeError\u001b[0m: expected string or bytes-like object"
     ]
    }
   ],
   "source": [
    "wires = getWires(instructions)\n",
    "solved = preformBitOperation(wires)\n",
    "print(solved['a'])"
   ]
  }
 ],
 "metadata": {
  "kernelspec": {
   "display_name": "Python 3",
   "language": "python",
   "name": "python3"
  },
  "language_info": {
   "codemirror_mode": {
    "name": "ipython",
    "version": 3
   },
   "file_extension": ".py",
   "mimetype": "text/x-python",
   "name": "python",
   "nbconvert_exporter": "python",
   "pygments_lexer": "ipython3",
   "version": "3.10.13"
  }
 },
 "nbformat": 4,
 "nbformat_minor": 2
}
