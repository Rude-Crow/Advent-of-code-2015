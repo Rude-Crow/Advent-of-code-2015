{
 "cells": [
  {
   "cell_type": "code",
   "execution_count": 1,
   "metadata": {},
   "outputs": [],
   "source": [
    "import re\n",
    "file = open(\"testdata-day-7.txt\", \"r\").read()\n",
    "instructions = file.split(\"\\n\")"
   ]
  },
  {
   "cell_type": "code",
   "execution_count": 14,
   "metadata": {},
   "outputs": [],
   "source": [
    "def getEmptyWireDict(instructions):\n",
    "    wireDict = {}\n",
    "    for i in instructions:\n",
    "        wire = i.split(' -> ')[1]\n",
    "        wireDict[wire] = 0\n",
    "    return wireDict\n",
    "\n",
    "def getWireInputs(instructions, wireDict):\n",
    "    for i in instructions:\n",
    "        wire = i.split(' -> ')[1]\n",
    "        input_1 = re.split('AND|OR|LSHIFT|RSHIFT|NOT', i.split(' -> ')[0])[0].split(' ')[0] #get input without empty space\n",
    "        if input_1.isnumeric():\n",
    "            input_1 = int(input_1)\n",
    "        input_2 = re.split('AND|OR|LSHIFT|RSHIFT|NOT', i.split(' -> ')[0])[1].split(' ')[1] #get input without empty space\n",
    "        if input_2.isnumeric():\n",
    "            input_2 = int(input_2)\n",
    "        if re.search('AND', i):\n",
    "            operator = '&'\n",
    "        elif re.search('OR', i):\n",
    "            operator = '|'\n",
    "        elif re.search('LSHIFT', i):\n",
    "            operator = '<<'\n",
    "        elif re.search('RSHIFT', i):\n",
    "            operator = '>>'\n",
    "        elif re.search('NOT', i):\n",
    "            operator = '(1 << 16) - 1 -'\n",
    "        wireDict[wire] = [input_1, operator, input_2]\n",
    "    return wireDict\n",
    "\n",
    "def solveWireDict(wireDict):\n",
    "    for key in list(wireDict):\n",
    "        if isinstance(wireDict[key], int):\n",
    "            pass\n",
    "        else:\n",
    "            if wireDict[key][1] == '(1 << 16) - 1 -': #NOT bitwise operation\n",
    "                if isinstance(wireDict[key][2], int):\n",
    "                    wireDict[key] = (1 << 16) - 1 - wireDict[key][2]\n",
    "                else:\n",
    "                    if isinstance(wireDict[wireDict[key][2]], int):\n",
    "                        wireDict[key] = [wireDict[key][0], wireDict[key][1], wireDict[wireDict[key][2]]]\n",
    "            else:\n",
    "                if isinstance(wireDict[key][0], int) & isinstance(wireDict[key][2], int):\n",
    "                    wireDict[key] = eval(' '.join(wireDict[key]))\n",
    "                else:\n",
    "                    if not isinstance(wireDict[key][0], int):\n",
    "                        if isinstance(wireDict[wireDict[key][0]], int):\n",
    "                            wireDict[key] = [wireDict[wireDict[key][0]], wireDict[key][1], wireDict[key][2]]\n",
    "                    if not isinstance(wireDict[key][2], int):\n",
    "                        if isinstance(wireDict[wireDict[key][2]], int):\n",
    "                            wireDict[key] = [wireDict[key][0], wireDict[key][1], wireDict[wireDict[key][2]]]\n",
    "\n",
    "    return wireDict\n"
   ]
  },
  {
   "cell_type": "code",
   "execution_count": 16,
   "metadata": {},
   "outputs": [
    {
     "name": "stdout",
     "output_type": "stream",
     "text": [
      "{'cd': ['', '(1 << 16) - 1 -', 'cc']}\n"
     ]
    }
   ],
   "source": [
    "wireDict = getEmptyWireDict(instructions)\n",
    "wireDict = getWireInputs(instructions, wireDict)\n",
    "solvedWireDict = solveWireDict(wireDict)"
   ]
  }
 ],
 "metadata": {
  "kernelspec": {
   "display_name": "Python 3",
   "language": "python",
   "name": "python3"
  },
  "language_info": {
   "codemirror_mode": {
    "name": "ipython",
    "version": 3
   },
   "file_extension": ".py",
   "mimetype": "text/x-python",
   "name": "python",
   "nbconvert_exporter": "python",
   "pygments_lexer": "ipython3",
   "version": "3.10.13"
  }
 },
 "nbformat": 4,
 "nbformat_minor": 2
}
