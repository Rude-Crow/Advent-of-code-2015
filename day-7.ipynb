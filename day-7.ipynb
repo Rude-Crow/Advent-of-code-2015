{
 "cells": [
  {
   "cell_type": "code",
   "execution_count": 131,
   "metadata": {},
   "outputs": [],
   "source": [
    "import re\n",
    "file = open(\"testdata-day-7.txt\", \"r\").read()\n",
    "instructions = file.split(\"\\n\")"
   ]
  },
  {
   "cell_type": "code",
   "execution_count": 149,
   "metadata": {},
   "outputs": [],
   "source": [
    "def getEmptyWireDict(instructions):\n",
    "    wireDict = {}\n",
    "    for i in instructions:\n",
    "        wire = i.split(' -> ')[1]\n",
    "        wireDict[wire] = 0\n",
    "    return wireDict\n",
    "\n",
    "def getWireInputs(instructions, wireDict):\n",
    "    for i in instructions:\n",
    "        if i.split(' -> ')[0].isnumeric():\n",
    "            wireDict[wire] = int(i.split(' -> ')[0])\n",
    "        elif len(i.split(' -> ')[0]) <= 3:\n",
    "            wireDict[wire] = i.split(' -> ')[0]\n",
    "        else:\n",
    "            wire = i.split(' -> ')[1]\n",
    "            input_1 = re.split('AND|OR|LSHIFT|RSHIFT|NOT', i.split(' -> ')[0])[0].split(' ')[0] #get input without empty space\n",
    "            if input_1.isnumeric():\n",
    "                input_1 = int(input_1)\n",
    "            input_2 = re.split('AND|OR|LSHIFT|RSHIFT|NOT', i.split(' -> ')[0])[1].split(' ')[1] #get input without empty space\n",
    "            if input_2.isnumeric():\n",
    "                input_2 = int(input_2)\n",
    "            if re.search('AND', i):\n",
    "                operator = '&'\n",
    "            elif re.search('OR', i):\n",
    "                operator = '|'\n",
    "            elif re.search('LSHIFT', i):\n",
    "                operator = '<<'\n",
    "            elif re.search('RSHIFT', i):\n",
    "                operator = '>>'\n",
    "            elif re.search('NOT', i):\n",
    "                operator = '(1 << 16) - 1 -'\n",
    "            wireDict[wire] = [input_1, operator, input_2]\n",
    "    return wireDict\n",
    "\n",
    "def solveWireDict(wireDict):\n",
    "    for key in list(wireDict):\n",
    "        if isinstance(wireDict[key], int) | isinstance(wireDict[key], str):\n",
    "            if isinstance(wireDict[key], str):\n",
    "                if isinstance(wireDict[wireDict[key]], int):\n",
    "                    wireDict[key] = wireDict[wireDict[key]]\n",
    "        else:\n",
    "            if isinstance(wireDict[key][0], int) & isinstance(wireDict[key][2], int) | (wireDict[key][1] == '~') & isinstance(wireDict[key][2], int):\n",
    "                wireDict[key] = eval(' '.join([f'{wireDict[key][0]}', f'{wireDict[key][1]}', f'{wireDict[key][2]}']))\n",
    "            else:\n",
    "                if wireDict[key][0] != '':\n",
    "                    if not isinstance(wireDict[key][0], int):\n",
    "                        if isinstance(wireDict[wireDict[key][0]], int):\n",
    "                            wireDict[key] = [wireDict[wireDict[key][0]], wireDict[key][1], wireDict[key][2]]\n",
    "                if not isinstance(wireDict[key][2], int):\n",
    "                    if isinstance(wireDict[wireDict[key][2]], int):\n",
    "                        wireDict[key] = [wireDict[key][0], wireDict[key][1], wireDict[wireDict[key][2]]]\n",
    "\n",
    "    return wireDict\n"
   ]
  },
  {
   "cell_type": "code",
   "execution_count": 151,
   "metadata": {},
   "outputs": [
    {
     "name": "stdout",
     "output_type": "stream",
     "text": [
      "{'a': 20, 'b': 20, 'c': 20, 'd': -21}\n"
     ]
    }
   ],
   "source": [
    "wireDict = {'a': 'b', 'b': 20, 'c': ['a', '&', 'b'], 'd': ['', '~', 'a']}\n",
    "solvedWireDict = solveWireDict(wireDict)\n",
    "solvedWireDict = solveWireDict(solvedWireDict)\n",
    "print(solvedWireDict)"
   ]
  },
  {
   "cell_type": "code",
   "execution_count": 136,
   "metadata": {},
   "outputs": [
    {
     "name": "stdout",
     "output_type": "stream",
     "text": [
      "{'ls': ['lf', '&', 'lq'], 'jn': ['iu', '>>', 1], 'bv': 0, 'hc': ['gj', '>>', 1], 'eu': ['et', '>>', 2], 'by': 0, 'iu': ['is', '|', 'it'], 'o': 0, 'gg': ['gf', '|', 'ge'], 'ku': ['', '(1 << 16) - 1 -', 'kt'], 'ed': 0, 'ks': ['kl', '|', 'kr'], 'hl': ['hi', '&', 'hk'], 'ax': 0, 'lg': ['lf', '>>', 2], 'df': 0, 'fc': ['eu', '&', 'fa'], 'di': 0, 'it': ['ip', '<<', 15], 'em': ['', '(1 << 16) - 1 -', 'el'], 'ff': ['et', '|', 'fe'], 'fn': ['fj', '<<', 15], 'u': 0, 'ma': ['ly', '|', 'lz'], 'kr': ['ko', '&', 'kq'], 'fy': ['', '(1 << 16) - 1 -', 'fx'], 'fm': ['et', '>>', 1], 'fb': ['eu', '|', 'fa'], 'de': 0, 'gp': ['', '(1 << 16) - 1 -', 'go'], 'ke': ['kb', '&', 'kd'], 'hi': ['hg', '|', 'hh'], 'kg': ['jm', '<<', 1], 'co': 65535, 'jq': ['jp', '>>', 2], 'js': ['jp', '>>', 5], 'ip': [1, '&', 'io'], 'es': ['eo', '<<', 15], 'jk': [1, '&', 'jj'], 'j': 0, 'ck': 0, 'gq': [0, '&', 'gp'], 'fv': ['fs', '&', 'fu'], 'lm': ['lj', '&', 'll'], 'jo': ['jk', '<<', 15], 'iw': ['iu', '>>', 3], 'ij': ['', '(1 << 16) - 1 -', 'ii'], 'cd': 0, 'bp': 0, 'gx': ['', '(1 << 16) - 1 -', 'gw'], 'fu': ['', '(1 << 16) - 1 -', 'ft'], 'jp': ['jn', '|', 'jo'], 'jc': ['iv', '|', 'jb'], 'hw': 19138, 'b': 0, 'gm': ['gj', '>>', 5], 'ht': ['hq', '&', 'hs'], 'er': 0, 'ap': 0, 'lf': ['ld', '|', 'le'], 'ce': 0, 'cc': 0, 'bm': 0, 'io': ['il', '&', 'in'], 'ai': 0, 'bl': 0, 'lh': ['lf', '>>', 3], 'et': [0, '|', 'es'], 'ay': 65535, 'db': 0, 'fg': ['et', '&', 'fe'], 'ln': ['lg', '|', 'lm'], 'n': 0, 'ia': ['hz', '>>', 2], 'lb': ['kh', '<<', 1], 'ez': ['', '(1 << 16) - 1 -', 'ey'], 'dj': 65535, 'eg': 'lx', 'a': 0, 'ja': ['', '(1 << 16) - 1 -', 'iz'], 'hd': ['gz', '<<', 15], 'cf': 0, 'ft': ['fq', '&', 'fr'], 'bb': 0, 'hb': ['ha', '|', 'gz'], 'fx': ['fp', '&', 'fv'], 'gc': ['', '(1 << 16) - 1 -', 'gb'], 'ii': ['ia', '&', 'ig'], 'gn': 0, 'c': 0, 'cb': 65535, 'cg': 0, 't': 0, 'iy': ['iw', '|', 'ix'], 'kh': ['kg', '|', 'kf'], 'ek': [0, '|', 'ej'], 'kp': ['km', '&', 'kn'], 'fd': ['', '(1 << 16) - 1 -', 'fc'], 'ib': ['hz', '>>', 3], 'dr': 65535, 'fh': ['', '(1 << 16) - 1 -', 'fg'], 'dz': 0, 'kl': ['kk', '>>', 2], 'fj': [1, '&', 'fi'], 'hs': ['', '(1 << 16) - 1 -', 'hr'], 'ki': ['jp', '>>', 1], 'bn': 0, 'gz': [1, '&', 'gy'], 'gu': ['gr', '&', 'gt'], 'dd': 0, 'dl': 0, 'av': 0, 'li': ['lf', '>>', 5], 'hp': ['hm', '&', 'ho'], 'ci': 0, 'gw': ['gj', '&', 'gu'], 'gi': ['ge', '<<', 15], 'g': 0, 'fw': ['fp', '|', 'fv'], 'fe': ['fb', '&', 'fd'], 'ch': 0, 'v': 0, 'ba': 0, 'bo': 0, 'lk': ['lh', '&', 'li'], 'do': 0, 'ej': ['eg', '&', 65535], 'fa': ['ex', '&', 'ez'], 'kq': ['', '(1 << 16) - 1 -', 'kp'], 'll': ['', '(1 << 16) - 1 -', 'lk'], 'ak': 0, 'kb': ['jp', '|', 'ka'], 'je': ['', '(1 << 16) - 1 -', 'jd'], 'jb': ['iy', '&', 'ja'], 'jr': ['jp', '>>', 3], 'ga': ['fo', '|', 'fz'], 'dh': 0, 'gk': ['gj', '>>', 2], 'gv': ['gj', '|', 'gu'], 'ji': ['', '(1 << 16) - 1 -', 'jh'], 'bj': 0, 'lt': ['', '(1 << 16) - 1 -', 'ls'], 'jl': ['ir', '<<', 1], 'ca': 0, 'lz': ['lv', '<<', 15], 'bd': 0, 'dc': 0, 'lq': ['ln', '&', 'lp'], 'aq': 0, 'gr': ['gk', '|', 'gq'], 'ky': ['', '(1 << 16) - 1 -', 'kx'], 'jj': ['jg', '&', 'ji'], 'bz': 0, 'gf': ['fl', '<<', 1], 'br': 0, 'hq': ['he', '|', 'hp'], 'ew': ['et', '>>', 5], 'iv': ['iu', '>>', 2], 'go': ['gl', '&', 'gm'], 'aj': 0, 'he': ['hc', '|', 'hd'], 'lo': ['lg', '&', 'lm'], 'lj': ['lh', '|', 'li'], 'du': 0, 'fp': ['fo', '>>', 2], 'gs': ['gk', '&', 'gq'], 'bk': 0, 'lr': ['lf', '|', 'lq'], 'cr': 0, 'hy': ['hu', '<<', 15], 'bi': 0, 'fq': ['fo', '>>', 3], 'lp': ['', '(1 << 16) - 1 -', 'lo'], 'iq': 38276, 'dw': 0, 'dx': 0, 'el': [0, '&', 'ej'], 'ar': 0, 'as': 0, 's': 0, 'fz': ['fw', '&', 'fy'], 'in': ['', '(1 << 16) - 1 -', 'im'], 'ev': ['et', '>>', 3], 'dt': 0, 'ef': 0, 'al': 65535, 'jm': ['jl', '|', 'jk'], 'eo': [1, '&', 'en'], 'lc': ['lb', '|', 'la'], 'jh': ['iu', '&', 'jf'], 'ix': ['iu', '>>', 5], 'bw': 0, 'da': 0, 'jd': ['iv', '&', 'jb'], 'iz': ['iw', '&', 'ix'], 'ly': ['lf', '>>', 1], 'jg': ['iu', '|', 'jf'], 'dn': 65535, 'lx': ['lw', '|', 'lv'], 'ha': ['gg', '<<', 1], 'lu': ['lr', '&', 'lt'], 'fo': ['fm', '|', 'fn'], 'hg': ['he', '>>', 3], 'am': 0, 'la': [1, '&', 'kz'], 'eb': 0, 'jf': ['jc', '&', 'je'], 'cp': 0, 'gy': ['gv', '&', 'gx'], 'ex': ['ev', '|', 'ew'], 'kc': ['jp', '&', 'ka'], 'fl': ['fk', '|', 'fj'], 'ea': 0, 'bt': 65535, 'ah': 65535, 'eh': 0, 'cz': 0, 'cw': 65535, 'cy': 0, 'dm': 0, 'cn': 0, 'aa': 0, 'ep': 0, 'hf': ['he', '>>', 2], 'bx': 65535, 'cm': 0, 'bs': 0, 'be': 0, 'hr': ['he', '&', 'hp'], 'ey': ['ev', '&', 'ew'], 'lv': [1, '&', 'lu'], 'km': ['kk', '>>', 3], 'p': 0, 'kd': ['', '(1 << 16) - 1 -', 'kc'], 'lw': ['lc', '<<', 1], 'ko': ['km', '|', 'kn'], 'ig': ['id', '&', 'if'], 'ik': ['ih', '&', 'ij'], 'ju': ['jr', '&', 'js'], 'cl': 0, 'is': ['hz', '>>', 1], 'kf': [1, '&', 'ke'], 'gt': ['', '(1 << 16) - 1 -', 'gs'], 'az': 0, 'y': 0, 'ae': 0, 'fi': ['ff', '&', 'fh'], 'cv': 0, 'fk': ['eq', '<<', 1], 'gl': ['gj', '>>', 3], 'ao': 0, 'bc': 65535, 'hk': ['', '(1 << 16) - 1 -', 'hj'], 'kz': ['kw', '&', 'ky'], 'bf': 0, 'dy': 0, 'bu': 0, 'kx': ['kk', '&', 'kv'], 'eq': [0, '|', 'eo'], 'hx': ['he', '>>', 1], 'kk': ['ki', '|', 'kj'], 'jv': ['', '(1 << 16) - 1 -', 'ju'], 'en': ['ek', '&', 'em'], 'kn': ['kk', '>>', 5], 'ei': 65535, 'hz': ['hx', '|', 'hy'], 'ec': 0, 'w': 0, 'gh': ['fo', '>>', 1], 'kw': ['kk', '|', 'kv'], 'bq': 0, 'ee': 65535, 'hu': [1, '&', 'ht'], 'cx': 0, 'f': 0, 'kt': ['kl', '&', 'kr'], 'ir': [38276, '|', 'ip'], 'cj': 0, 'cq': 0, 'r': 0, 'dg': 0, 'd': 0, 'kv': ['ks', '&', 'ku'], 'e': 0, 'k': 0, 'q': 65535, 'cs': 65535, 'dv': 0, 'kj': ['kf', '<<', 15], 'ad': 65535, 'fr': ['fo', '>>', 5], 'il': ['hz', '|', 'ik'], 'ka': ['jx', '&', 'jz'], 'gj': ['gh', '|', 'gi'], 'ld': ['kk', '>>', 1], 'ic': ['hz', '>>', 5], 'at': 0, 'jz': ['', '(1 << 16) - 1 -', 'jy'], 'an': 0, 'cu': 0, 'hj': ['hg', '&', 'hh'], 'jx': ['jq', '|', 'jw'], 'x': 0, 'le': ['la', '<<', 15], 'dk': 0, 'ds': 0, 'jy': ['jq', '&', 'jw'], 'aw': 0, 'bg': 65535, 'ab': 0, 'gd': ['ga', '&', 'gc'], 'im': ['hz', '&', 'ik'], 'jw': ['jt', '&', 'jv'], 'ac': 0, 'jt': ['jr', '|', 'js'], 'hv': ['hb', '<<', 1], 'hm': ['hf', '|', 'hl'], 'id': ['ib', '|', 'ic'], 'fs': ['fq', '|', 'fr'], 'ct': 0, 'ih': ['ia', '|', 'ig'], 'dp': 0, 'l': 0, 'ie': ['ib', '&', 'ic'], 'au': 0, 'bh': 0, 'dq': 0, 'm': 65535, 'ge': [1, '&', 'gd'], 'ag': 0, 'gb': ['fo', '&', 'fz'], 'if': ['', '(1 << 16) - 1 -', 'ie'], 'h': 0, 'z': 0, 'af': 0, 'hn': ['hf', '&', 'hl'], 'i': 65535, 'ho': ['', '(1 << 16) - 1 -', 'hn'], 'hh': ['he', '>>', 5]}\n"
     ]
    }
   ],
   "source": [
    "wireDict = getEmptyWireDict(instructions)\n",
    "wireDict = getWireInputs(instructions, wireDict)\n",
    "solvedWireDict = solveWireDict(wireDict)\n",
    "n = 0\n",
    "while n < 10000:\n",
    "    solvedWireDict = solveWireDict(solvedWireDict)\n",
    "    n = n+1\n",
    "print(solvedWireDict)"
   ]
  }
 ],
 "metadata": {
  "kernelspec": {
   "display_name": "Python 3",
   "language": "python",
   "name": "python3"
  },
  "language_info": {
   "codemirror_mode": {
    "name": "ipython",
    "version": 3
   },
   "file_extension": ".py",
   "mimetype": "text/x-python",
   "name": "python",
   "nbconvert_exporter": "python",
   "pygments_lexer": "ipython3",
   "version": "3.10.13"
  }
 },
 "nbformat": 4,
 "nbformat_minor": 2
}
