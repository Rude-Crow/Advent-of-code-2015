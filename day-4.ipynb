{
 "cells": [
  {
   "cell_type": "markdown",
   "metadata": {},
   "source": [
    "Day 4 Part 1"
   ]
  },
  {
   "cell_type": "code",
   "execution_count": 24,
   "metadata": {},
   "outputs": [
    {
     "name": "stdout",
     "output_type": "stream",
     "text": [
      "254575\n",
      "000004b30d481662b9cb0c105f6549b2\n"
     ]
    }
   ],
   "source": [
    "import hashlib\n",
    "file = open(\"testdata-day-4.txt\", \"r\").read()\n",
    "\n",
    "numToAdd = 0\n",
    "hash = file\n",
    "while hash[:5] != '00000':\n",
    "    toHash = file + str(numToAdd)\n",
    "    hash = hashlib.md5(toHash.encode()).hexdigest()\n",
    "    numToAdd += 1\n",
    "    \n",
    "\n",
    "print(numToAdd-1)\n",
    "print(hash)"
   ]
  },
  {
   "cell_type": "markdown",
   "metadata": {},
   "source": [
    "Day 4 Part 2"
   ]
  },
  {
   "cell_type": "code",
   "execution_count": 25,
   "metadata": {},
   "outputs": [
    {
     "name": "stdout",
     "output_type": "stream",
     "text": [
      "1038736\n",
      "000000b1b64bf5eb55aad89986126953\n"
     ]
    }
   ],
   "source": [
    "import hashlib\n",
    "file = open(\"testdata-day-4.txt\", \"r\").read()\n",
    "\n",
    "numToAdd = 0\n",
    "hash = file\n",
    "while hash[:6] != '000000':\n",
    "    toHash = file + str(numToAdd)\n",
    "    hash = hashlib.md5(toHash.encode()).hexdigest()\n",
    "    numToAdd += 1\n",
    "    \n",
    "\n",
    "print(numToAdd-1)\n",
    "print(hash)"
   ]
  }
 ],
 "metadata": {
  "kernelspec": {
   "display_name": "Python 3",
   "language": "python",
   "name": "python3"
  },
  "language_info": {
   "codemirror_mode": {
    "name": "ipython",
    "version": 3
   },
   "file_extension": ".py",
   "mimetype": "text/x-python",
   "name": "python",
   "nbconvert_exporter": "python",
   "pygments_lexer": "ipython3",
   "version": "3.10.13"
  }
 },
 "nbformat": 4,
 "nbformat_minor": 2
}
