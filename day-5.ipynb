{
 "cells": [
  {
   "cell_type": "code",
   "execution_count": 5,
   "metadata": {},
   "outputs": [
    {
     "name": "stdout",
     "output_type": "stream",
     "text": [
      "['zwqadogmpjmmxijf', 'wrggegukhhatygfi', 'iuvrelxiapllaxbg', 'feybgiimfthtplui', 'xilodxfuxphuiiii', 'ivegnnpbiyxqsion', 'tiyphjunlxddenpj', 'nwenhxmakxqkeehg', 'qpnxkuldeiituggg', 'xwttlbdwxohahwar', 'amnflshcheuddqtc', 'pdvcsduggcogbiia', 'uyhbtmbutozzqfvq', 'auqylgxhmullxpaa', 'qhirixgwkkccuzlp', 'zoonniyosmkeejfg', 'hhdlruwclartkyap', 'jerbbbnxlwfvlaiw', 'emszboysjuvwwvts', 'msyigmwcuybfiooq', 'bmzalvducnqtuune', 'hruaqjwphonnterf', 'oiedrjvmlbtwyyuy', 'vonbxquiiwxnazyl', 'kujsaiqojopvrygg', 'uunoygzqjopwgmbg', 'trtuxbgigogfsbbk', 'ibxkhjvzzxgavkha', 'orvevzyjliomkkgu', 'mzjbhmfjjvaziget', 'pyxpyvvipbqibiox', 'hnkrqxifjmmjktie', 'aqykzeuzvvetoygd', 'qqwliakathnsbzne', 'zricvxhdzznuxuce', 'gtqergjiuwookwre', 'weeguqeheeiigrue', 'jiyahihykjjkdaya', 'fvvpmgttnapklwou', 'mwpvvzaaicntrkcp', 'ykbbldkoijlvicbl', 'zreeyomtngvztveq', 'wkvnrwqgjooovhpf', 'kwgueyiyffudtbyg', 'ludwccvkihagvxal', 'cajzbqleghhnlgap', 'vmitdcozzvqvzatp', 'eelzefwqwjiywbcz', 'aorhnrpkjqqtgnfo', 'lfrxfdrduoeqmwwp', 'nwznunammfexltjc', 'zkyieokaaogjehwt', 'dgpuhiisybjpidsj', 'ilgteekhzwlsfwcn', 'vfbaeavmjjemfrmo', 'qjlrnjfokkqvnpue', 'wttfmnrievfestog', 'eamjfvsjhvzzaobg', 'mgzdqwikzullzyco', 'mumezgtxjrrejtrs', 'zuslbrpooyetgafh', 'lznjolnorbuddgcs', 'yutqgssfoptvizgr', 'qywreehbidowtjyz', 'bcwdqgiiizmohack', 'mxopokqffisxosci', 'elamngegnczctcck', 'mfhzreuzzumvoggr', 'nnazphxpanegwitx', 'zqxqjetooqcodwml', 'ozwlyxtaalxofovd', 'wgoqfrygttlamobg', 'owsdrfgkaamogjzd', 'lltviwincmbtduap', 'jzvmwgjutxoysaam', 'sqtvnbeiigdzbjgv', 'eczmkqwvnsrracuo', 'mwaaysrndiutuiqx', 'aacuiiwgaannunmm', 'jurorvzpplyelfml', 'qonbllojmloykjqe', 'sllkzqujfnbauuqp', 'wyuokkfjexikptvv', 'ngqpvhajttxuegyh', 'hiipezngkqcnihty', 'bbmqgheidenweeov', 'zzifqinoeqaorjxg', 'adhgppljizpaxzld', 'nljoakatwwwoovzn', 'agnggugngadrcxoc', 'uhttadmdmhidpyjw', 'civoeoiuwtwgbqqs', 'tdfvkreormspprer', 'hrrmraevdnztiwff', 'qzziznlswjaussel', 'tuotforulrrytgyn', 'qvxapbiatuudseno', 'oqeukkgjsfuqkjbb', 'fukvgteitwaagpzx', 'wodfoyhoekidxttm', 'vxsluutrwskslnye', 'wrseozkkcyctrmei', 'qxbovietpacqqxok', 'hnppukzvzfmlokid', 'ohodhelegxootqbj', 'wvfaoolwtkbrisvf', 'nzqfuhrooswxxhus', 'oehmvziiqwkzhzib', 'ooixfvwtiafnwkce', 'wywualssrmaqigqk', 'jeaezptokkccpbuj', 'zgmnyjfeqffbooww', 'zxidlodrezztcrij', 'iqhgokavirrcvyys', 'tyozixxxaqiuvoys', 'moeektyhyonfdhrb', 'kahvevmmfsmiiqex', 'muypbfttoeelsnbs', 'ubmmjbznskildeoj', 'mskutzossrwoqqsi', 'rygoebkzgyzushhr', 'arbufysjqmgaapnl', 'dbjerflevtgweeoj', 'mkvaatolvuggikvg', 'eivuuafkvudeouwy', 'llninfenrfjqxurv', 'uohntlcoguvjqqdo', 'hiiixcyohmvnkpgk', 'mmitpwopgxuftdfu', 'bkkkkcwegvypbrio', 'gqwebiifvqoeynro', 'juupusqdsvxcpsgv', 'bssshaqujtmluerz', 'uukotwjkstgwijtr', 'kbqkneobbrdogrxk', 'dedjjbrndqnilbeh', 'hrjuzfumbvfccxno', 'hauwpjjwowbunbjj', 'bqzzppwoslaeixro', 'nxduvwfrgzaailgl', 'xniuwvxufzxjjrwz', 'iyneqjdmlhowwzxx', 'tkrvyanujjwmyyri', 'wbrvjjjajuombokf', 'nlqymnuvjpvvgova', 'csuellnlcyqaaamq', 'ainnfhxnsgwqnmyo', 'eyytjjwhvodtzquf', 'xgjbyhfgmtseiimt', 'dnoiseraqcoossmc', 'hbzvqhvudfdlegaa', 'girstvkahaemmxvh', 'jojuselkpmnnbcbb', 'qssnbcyjgmkyuoga', 'jduinhjjntrmqroz', 'yparkxbgsfnueyll', 'lyeqqeisxzfsqzuj', 'uecjseeicldqrqww', 'lhqijovvhlffpxga', 'jvgzvuyzobeazssc', 'asnukgppdemxrzaz', 'hjknnfdauidjeydr', 'hczdjjlygoezadow', 'eeymiddvcwkpbpux', 'iiwjqvsdxudhdzzk', 'gucirgxaxgcassyo', 'huregszrcaocueen', 'pifezpoolrnbdqtv', 'xtawlpduxgacchfe', 'srdgnnjtfehiimqx', 'pwfalehdfyykrohf', 'brsemdzosgqvvlxe', 'bbbqycejueruihhd', 'pyroowjekeurlbii', 'csloawlirnegsssq', 'poaaidrktteusvyf', 'qwjulskbniitgqtx', 'eiquffofoadmbuhk', 'dbzbtashaartczrj', 'qbjiqpccefcfkvod', 'hluujmokjywotvzy', 'rjowuugwdpkjtypw', 'odteewktugcwlhln', 'eeswfcijtvzgrqel', 'pavfsmwesuvebzdd', 'nbajyohtzfeoiixz', 'oudzwuhexrwwdbyy', 'lengxmguyrwhrebb', 'tiovluvwezwwgaox', 'lofequdigsszuioy', 'ypxoyjelhllhbeog', 'eguucnoxaoprszmp', 'aypnmgqjxjqceelv', 'tzowgwsubbaigdok', 'eaxwvxvvwbrovypz', 'nmluqvobbbmdiwwb', 'lnkminvfjjzqbmio', 'mjiiqzycqdhfietz', 'towlrzriicyraevq', 'lmeooaajlthsfltw', 'ichygipzpykkesrw', 'nsahsaxvaepzneqq', 'jhzejdjidqqtjnwe', 'rlzkdkgaagmcpxah', 'obivkajhsjnrxxhn', 'lmjhayymgpseuynn', 'bbjyewkwadaipyju', 'lmzyhwomfypoftuu', 'ohemsbfuqqpucups', 'urrxxebxrthtjvib', 'balrhhxipoqzmihj', 'lyyaentdizaumnla', 'speswfggibijfejk', 'xdgiszbuhdognniu', 'xippcyhkfuounxqk', 'ieknnjeecucghpoo', 'ggdivtmgoqajydzz', 'wnpfsgtxowkjiivl', 'iggoqtqpvaebtiol', 'ofknifysuasshoya', 'qxuewroccsbogrbv', 'zyahfroovfjlythh', 'hibxlvkqakusswkx', 'jqwcwuuisrclircv', 'ykriratovsvxxasf', 'qyebvtqqxbjuuwuo', 'acksrrptgnhkeiaa', 'ytbhxvaeiigjpcgm', 'kwbytzukgseeyjla', 'cvkyfcyfmubzwsee', 'otisopzzpvnhctte', 'ewnnopzkujbvhwce', 'zoidxeelqdjesxpr', 'ducjccsuaygfchzj', 'nlbyyywergronmir', 'eflaogtjghdjmxxz', 'srewprgddfgmdbao', 'czmzcbrkecixuwzz', 'baolzvfrrevxsyke', 'vsackherluvurqqj', 'knnugxoktxpvoxnh', 'knoaalcefpgtvlwm', 'gbbycjuscquaycrk', 'vdodpeherjmmvbje', 'kglzqahipnddanpi', 'ocifnoopfglmndcx', 'ooktviixetfddfmh', 'iyuiffjmcaahowhj', 'fytneukxqkjattvh', 'iwsljvkyfastccoa', 'estyydmzothggudf', 'izmqcwdyggibliet', 'xqcssgozuxfqtiwi', 'bzukgvyoqewniivj', 'iduapzclhhyfladn']\n",
      "255\n"
     ]
    }
   ],
   "source": [
    "import re\n",
    "\n",
    "file = open(\"testdata-day-5.txt\", \"r\").read()\n",
    "strings = file.split(\"\\n\")\n",
    "nice_strings = []\n",
    "\n",
    "for string in strings:\n",
    "    if re.search(r\"ab|cd|pq|xy\", string) == None:\n",
    "        if re.search(r\"(.)\\1\", string) != None:\n",
    "            vowels = [c for c in string if c in \"aeiou\"]\n",
    "            if len(vowels) >= 3:\n",
    "                nice_strings.append(string)\n",
    "\n",
    "print(nice_strings)\n",
    "print(len(nice_strings))"
   ]
  },
  {
   "cell_type": "markdown",
   "metadata": {},
   "source": [
    "Part 2"
   ]
  },
  {
   "cell_type": "code",
   "execution_count": 6,
   "metadata": {},
   "outputs": [
    {
     "name": "stdout",
     "output_type": "stream",
     "text": [
      "['xilodxfuxphuiiii', 'dwkasufidwjrjfbf', 'vebzobmdbzvjnjtk', 'pyxpyvvipbqibiox', 'ygduolbysehdudra', 'weeguqeheeiigrue', 'jiyahihykjjkdaya', 'qmqaqsajmqwhetpk', 'ywvwhrwhkaubvkbl', 'nrmsononytuwslsa', 'mxopokqffisxosci', 'khtkhcvelidjdena', 'sesylkpvbndrdhsy', 'wknkurddcknbdleg', 'aacuiiwgaannunmm', 'kpavhqkukugocsxu', 'agnggugngadrcxoc', 'uhttadmdmhidpyjw', 'pzkkkkwrlvxiuysn', 'tdfvkreormspprer', 'olylnjtkxgrubmtk', 'wbabpirnpcsmpipw', 'vxsluutrwskslnye', 'fdmzppzphhpzyuiz', 'oehmvziiqwkzhzib', 'wnpxvmxvllxalulm', 'bkkkkcwegvypbrio', 'hauwpjjwowbunbjj', 'awkftfagrfzywkhs', 'uedtpzxyubeveuek', 'kvshzltcrrururty', 'dcjmxyzbzpohzprl', 'qhgzujhgdruowoug', 'mdngnobasfpewlno', 'dwmxqudvxqdenrur', 'hpmbxtpfosbsjixt', 'sysxssmvewyfjrve', 'eiquffofoadmbuhk', 'vjhrkiwmunuiwqau', 'ndxmskrwrqysrndf', 'ypxoyjelhllhbeog', 'liliptyoqujensfi', 'gxjzahtgbgbabtht', 'qkcdtkwuaquajazz', 'pqedgfojyjybfbzr', 'lotxrswlxbxlxufs', 'apsbnbkiopopytgu', 'uvbhdtvaypasaswa', 'jqwcwuuisrclircv', 'banrornfkcymmkcc', 'xlqwdrytzwnxzwzv', 'ohgqnqhfimyuqhvi', 'bauieohjejamzien', 'tstwsswswrxlzrqs', 'yzsmlbnftftgwadz']\n",
      "55\n"
     ]
    }
   ],
   "source": [
    "import re\n",
    "\n",
    "file = open(\"testdata-day-5.txt\", \"r\").read()\n",
    "strings = file.split(\"\\n\")\n",
    "nice_strings = []\n",
    "\n",
    "for string in strings:\n",
    "    if re.search(r\"(.).(\\1)\", string) != None:\n",
    "        if re.search(r\"^.*?([a-z]{2}).*?(\\1).*$\", string) != None:\n",
    "            nice_strings.append(string)\n",
    "\n",
    "print(nice_strings)\n",
    "print(len(nice_strings))"
   ]
  }
 ],
 "metadata": {
  "kernelspec": {
   "display_name": "Python 3",
   "language": "python",
   "name": "python3"
  },
  "language_info": {
   "codemirror_mode": {
    "name": "ipython",
    "version": 3
   },
   "file_extension": ".py",
   "mimetype": "text/x-python",
   "name": "python",
   "nbconvert_exporter": "python",
   "pygments_lexer": "ipython3",
   "version": "3.10.13"
  }
 },
 "nbformat": 4,
 "nbformat_minor": 2
}
