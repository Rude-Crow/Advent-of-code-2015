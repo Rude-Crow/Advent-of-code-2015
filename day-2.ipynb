{
 "cells": [
  {
   "cell_type": "code",
   "execution_count": 46,
   "metadata": {},
   "outputs": [
    {
     "name": "stdout",
     "output_type": "stream",
     "text": [
      "1588178\n"
     ]
    }
   ],
   "source": [
    "file = open(\"testdata-day-2.txt\", \"r\").read()\n",
    "dimensions = file.split()\n",
    "total = 0\n",
    "for i in dimensions:\n",
    "    dim = i.split('x')\n",
    "    calcs = [int(dim[0])*int(dim[1]), int(dim[1])*int(dim[2]), int(dim[2])*int(dim[0])]\n",
    "    calcs.sort()\n",
    "    total += 2*calcs[0] + 2*calcs[1] + 2*calcs[2] + calcs[0]\n",
    "print(total)"
   ]
  }
 ],
 "metadata": {
  "kernelspec": {
   "display_name": "Python 3",
   "language": "python",
   "name": "python3"
  },
  "language_info": {
   "codemirror_mode": {
    "name": "ipython",
    "version": 3
   },
   "file_extension": ".py",
   "mimetype": "text/x-python",
   "name": "python",
   "nbconvert_exporter": "python",
   "pygments_lexer": "ipython3",
   "version": "3.10.13"
  }
 },
 "nbformat": 4,
 "nbformat_minor": 2
}
